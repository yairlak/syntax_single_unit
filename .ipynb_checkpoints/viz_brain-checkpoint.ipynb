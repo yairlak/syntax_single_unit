{
 "cells": [
  {
   "cell_type": "code",
   "execution_count": 1,
   "id": "enhanced-arkansas",
   "metadata": {},
   "outputs": [],
   "source": [
    "import numpy as np\n",
    "import nibabel as nib\n",
    "import ipyvolume as ipv\n",
    "import mne\n",
    "import matplotlib.pyplot as plt"
   ]
  },
  {
   "cell_type": "code",
   "execution_count": 6,
   "id": "nuclear-institute",
   "metadata": {},
   "outputs": [],
   "source": [
    "SUBJECTS_DIR = '/volatile/freesurfer/subjects' # your freesurfer directory"
   ]
  },
  {
   "cell_type": "code",
   "execution_count": 7,
   "id": "hearing-turner",
   "metadata": {},
   "outputs": [
    {
     "name": "stdout",
     "output_type": "stream",
     "text": [
      "Reading labels from parcellation...\n",
      "   read 75 labels from /volatile/freesurfer/subjects/fsaverage/label/lh.aparc.a2009s.annot\n",
      "   read 75 labels from /volatile/freesurfer/subjects/fsaverage/label/rh.aparc.a2009s.annot\n"
     ]
    }
   ],
   "source": [
    "labels = mne.read_labels_from_annot(\n",
    "    'fsaverage', \n",
    "    parc='aparc.a2009s', \n",
    "    subjects_dir=SUBJECTS_DIR, \n",
    "    verbose=True\n",
    ")"
   ]
  },
  {
   "cell_type": "code",
   "execution_count": 8,
   "id": "falling-equilibrium",
   "metadata": {},
   "outputs": [],
   "source": [
    "# def read_surface(subjects_dir, hemi='lh', surface='pial'):\n",
    "subjects_dir = SUBJECTS_DIR\n",
    "hemi='lh'\n",
    "surface='pial'\n",
    "# Read Anatomy\n",
    "fname = f'{subjects_dir}/fsaverage/surf/{hemi}.{surface}'\n",
    "rr, tris = nib.freesurfer.read_geometry(fname)\n",
    "tris = tris.astype(np.uint32)\n",
    "\n",
    "# Curvature\n",
    "fname_curv = f'{subjects_dir}/fsaverage/surf/{hemi}.curv'\n",
    "curv = nib.freesurfer.read_morph_data(fname_curv)\n",
    "\n",
    "# Normalize curvature to make gray cortex\n",
    "curv = (curv < 0).astype(float)\n",
    "curv = (curv - 0.5) / 3 + 0.5\n",
    "curv = curv[:, np.newaxis] * [1, 1, 1]"
   ]
  },
  {
   "cell_type": "code",
   "execution_count": 9,
   "id": "improving-means",
   "metadata": {},
   "outputs": [
    {
     "data": {
      "image/png": "[encoded data removed]",
      "text/plain": [
       "<Figure size 432x288 with 1 Axes>"
      ]
     },
     "metadata": {
      "needs_background": "light"
     },
     "output_type": "display_data"
    }
   ],
   "source": [
    "n_areas = 49\n",
    "X, Y = np.meshgrid(np.linspace(0, 1, int(n_areas**.5)),\n",
    "                   np.linspace(0, 1, int(n_areas**.5)),\n",
    "                   sparse=False, indexing='xy')\n",
    "\n",
    "for i in range(len(X)):\n",
    "    for j in range(len(X[0])):\n",
    "        plt.scatter(i, j, color=[X[i,j], 0, Y[i,j]], s=200)"
   ]
  },
  {
   "cell_type": "code",
   "execution_count": 10,
   "id": "simplified-tradition",
   "metadata": {},
   "outputs": [],
   "source": [
    "color = curv\n",
    "for label, x, y in zip(labels[:n_areas], X.ravel(), Y.ravel()):\n",
    "    color[label.vertices, :] = [x, 0, y]"
   ]
  },
  {
   "cell_type": "code",
   "execution_count": 13,
   "id": "interpreted-surname",
   "metadata": {},
   "outputs": [
    {
     "ename": "AttributeError",
     "evalue": "type object 'style' has no attribute 'box_off'",
     "output_type": "error",
     "traceback": [
      "\u001b[0;31m---------------------------------------------------------------------------\u001b[0m",
      "\u001b[0;31mAttributeError\u001b[0m                            Traceback (most recent call last)",
      "\u001b[0;32m<ipython-input-13-65a6e9c5af2f>\u001b[0m in \u001b[0;36m<module>\u001b[0;34m\u001b[0m\n\u001b[1;32m     11\u001b[0m \u001b[0mfig\u001b[0m\u001b[0;34m.\u001b[0m\u001b[0mzlabel\u001b[0m \u001b[0;34m=\u001b[0m \u001b[0;34m''\u001b[0m\u001b[0;34m\u001b[0m\u001b[0;34m\u001b[0m\u001b[0m\n\u001b[1;32m     12\u001b[0m \u001b[0;31m#ipv.style.axes_off()\u001b[0m\u001b[0;34m\u001b[0m\u001b[0;34m\u001b[0m\u001b[0;34m\u001b[0m\u001b[0m\n\u001b[0;32m---> 13\u001b[0;31m \u001b[0mipv\u001b[0m\u001b[0;34m.\u001b[0m\u001b[0mstyle\u001b[0m\u001b[0;34m.\u001b[0m\u001b[0mbox_off\u001b[0m\u001b[0;34m(\u001b[0m\u001b[0;34m)\u001b[0m\u001b[0;34m\u001b[0m\u001b[0;34m\u001b[0m\u001b[0m\n\u001b[0m\u001b[1;32m     14\u001b[0m \u001b[0mipv\u001b[0m\u001b[0;34m.\u001b[0m\u001b[0mshow\u001b[0m\u001b[0;34m(\u001b[0m\u001b[0;34m)\u001b[0m\u001b[0;34m\u001b[0m\u001b[0;34m\u001b[0m\u001b[0m\n",
      "\u001b[0;31mAttributeError\u001b[0m: type object 'style' has no attribute 'box_off'"
     ]
    }
   ],
   "source": [
    "fig = ipv.figure(width=500, height=500)\n",
    "brain = ipv.plot_trisurf(rr[:, 0], \n",
    "                         rr[:, 1], \n",
    "                         rr[:, 2],\n",
    "                         triangles=tris,\n",
    "                         color=color)\n",
    "\n",
    "ipv.squarelim()\n",
    "fig.xlabel = ''\n",
    "fig.ylabel = ''\n",
    "fig.zlabel = ''\n",
    "#ipv.style.axes_off()\n",
    "#ipv.style.box_off()\n",
    "ipv.show()"
   ]
  },
  {
   "cell_type": "code",
   "execution_count": null,
   "id": "built-enemy",
   "metadata": {},
   "outputs": [],
   "source": []
  }
 ],
 "metadata": {
  "kernelspec": {
   "display_name": "Python 3",
   "language": "python",
   "name": "python3"
  },
  "language_info": {
   "codemirror_mode": {
    "name": "ipython",
    "version": 3
   },
   "file_extension": ".py",
   "mimetype": "text/x-python",
   "name": "python",
   "nbconvert_exporter": "python",
   "pygments_lexer": "ipython3",
   "version": "3.8.3"
  }
 },
 "nbformat": 4,
 "nbformat_minor": 5
}
